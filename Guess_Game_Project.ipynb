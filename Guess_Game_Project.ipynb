{
  "nbformat": 4,
  "nbformat_minor": 0,
  "metadata": {
    "colab": {
      "name": "Guess Game Project",
      "provenance": [],
      "include_colab_link": true
    },
    "kernelspec": {
      "name": "python3",
      "display_name": "Python 3"
    },
    "language_info": {
      "name": "python"
    }
  },
  "cells": [
    {
      "cell_type": "markdown",
      "metadata": {
        "id": "view-in-github",
        "colab_type": "text"
      },
      "source": [
        "<a href=\"https://colab.research.google.com/github/SkAshmin/Machine-Learning-Projects/blob/main/Guess_Game_Project.ipynb\" target=\"_parent\"><img src=\"https://colab.research.google.com/assets/colab-badge.svg\" alt=\"Open In Colab\"/></a>"
      ]
    },
    {
      "cell_type": "code",
      "metadata": {
        "colab": {
          "base_uri": "https://localhost:8080/"
        },
        "id": "_254CAAT01sa",
        "outputId": "3a831ea1-e9ef-41d4-c6f8-a80e2900505c"
      },
      "source": [
        "import random\n",
        "name = input('Enter your name')\n",
        "print('Welcome to the game',name)\n",
        "words = ['chair','airbuds','bubble','copper','dolphin','extravagance','fragence','ghost','harmonics','import','jalebi']\n",
        "word = random.choice(words)\n",
        "print('Guess the characters')\n",
        "guesses = ''\n",
        "turns = 10\n",
        "while turns>0:\n",
        "  failed = 0\n",
        "  for char in word:\n",
        "    if char in guesses:\n",
        "      print(char)\n",
        "    else:\n",
        "      print('_')\n",
        "      failed+=1\n",
        "  if failed == 0:\n",
        "    print('Congratulations you win the game!')\n",
        "    print('The word is:',word)\n",
        "    break\n",
        "  guess = input('Guess the character\\n')\n",
        "  guesses+=guess\n",
        "  if guess not in word:\n",
        "    turns-=1\n",
        "    print('Sorry! Try again')\n",
        "    print('you have',+ turns,'more guesses')\n",
        "    if turns == 0:\n",
        "      print('Oops! you lose the game')\n"
      ],
      "execution_count": null,
      "outputs": [
        {
          "output_type": "stream",
          "text": [
            "Enter your nameAshmin\n",
            "Welcome to the game Ashmin\n",
            "Guess the characters\n",
            "_\n",
            "_\n",
            "_\n",
            "_\n",
            "_\n",
            "_\n",
            "_\n",
            "Guess the character\n",
            "airbuds\n",
            "Sorry! Try again\n",
            "you have 9 more guesses\n",
            "d\n",
            "_\n",
            "_\n",
            "_\n",
            "_\n",
            "i\n",
            "_\n",
            "Guess the character\n",
            "harmonics\n",
            "Sorry! Try again\n",
            "you have 8 more guesses\n",
            "d\n",
            "o\n",
            "_\n",
            "_\n",
            "h\n",
            "i\n",
            "n\n",
            "Guess the character\n",
            "chair\n",
            "Sorry! Try again\n",
            "you have 7 more guesses\n",
            "d\n",
            "o\n",
            "_\n",
            "_\n",
            "h\n",
            "i\n",
            "n\n",
            "Guess the character\n",
            "dolphin\n",
            "d\n",
            "o\n",
            "l\n",
            "p\n",
            "h\n",
            "i\n",
            "n\n",
            "Congratulations you win the game!\n",
            "The word is: dolphin\n"
          ],
          "name": "stdout"
        }
      ]
    }
  ]
}